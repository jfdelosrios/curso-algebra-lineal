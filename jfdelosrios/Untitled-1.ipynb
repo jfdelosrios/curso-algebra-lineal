{
 "cells": [
  {
   "cell_type": "code",
   "execution_count": 2,
   "metadata": {},
   "outputs": [
    {
     "data": {
      "text/latex": [
       "$\\displaystyle \\text{True}$"
      ],
      "text/plain": [
       "True"
      ]
     },
     "execution_count": 2,
     "metadata": {},
     "output_type": "execute_result"
    }
   ],
   "source": [
    "from sympy import Equivalent\n",
    "from sympy.abc import k\n",
    "\n",
    "a = k * (k + 1)/2 + (k + 1)\n",
    "\n",
    "b = (k + 1) * ((k + 1) + 1) / 2\n",
    "\n",
    "Equivalent(a.expand(), b.expand())"
   ]
  },
  {
   "cell_type": "code",
   "execution_count": 3,
   "metadata": {},
   "outputs": [
    {
     "data": {
      "text/latex": [
       "$\\displaystyle \\text{True}$"
      ],
      "text/plain": [
       "True"
      ]
     },
     "execution_count": 3,
     "metadata": {},
     "output_type": "execute_result"
    }
   ],
   "source": [
    "from sympy import Equivalent\n",
    "from sympy.abc import k\n",
    "\n",
    "a = k * (k + 1) / 2 + (k + 1)\n",
    "\n",
    "b = (k + 1) * ((k + 1) + 1) / 2\n",
    "\n",
    "Equivalent(a.expand(), b.expand())"
   ]
  },
  {
   "cell_type": "code",
   "execution_count": 4,
   "metadata": {},
   "outputs": [],
   "source": [
    "from sympy.abc import i, k, m, n, x\n",
    "from sympy import Sum, factorial, oo, IndexedBase, Function"
   ]
  },
  {
   "cell_type": "code",
   "execution_count": 3,
   "metadata": {},
   "outputs": [
    {
     "data": {
      "text/latex": [
       "$\\displaystyle \\text{True}$"
      ],
      "text/plain": [
       "True"
      ]
     },
     "execution_count": 3,
     "metadata": {},
     "output_type": "execute_result"
    }
   ],
   "source": [
    "from sympy import Sum, Equivalent\n",
    "from sympy.abc import a, b, i, k, n\n",
    "\n",
    "a = Sum(i, (i, 1, n))\n",
    "\n",
    "b = n * (n + 1) / 2\n",
    "\n",
    "Equivalent(a.doit(), b.expand())"
   ]
  },
  {
   "cell_type": "code",
   "execution_count": 10,
   "metadata": {},
   "outputs": [
    {
     "data": {
      "text/latex": [
       "$\\displaystyle \\frac{n^{2}}{2} + \\frac{n}{2}$"
      ],
      "text/plain": [
       "n**2/2 + n/2"
      ]
     },
     "execution_count": 10,
     "metadata": {},
     "output_type": "execute_result"
    }
   ],
   "source": [
    ".subs([(n,1)])"
   ]
  },
  {
   "cell_type": "code",
   "execution_count": 12,
   "metadata": {},
   "outputs": [
    {
     "data": {
      "text/latex": [
       "$\\displaystyle \\text{True}$"
      ],
      "text/plain": [
       "True"
      ]
     },
     "execution_count": 12,
     "metadata": {},
     "output_type": "execute_result"
    }
   ],
   "source": [
    "from sympy import Sum, Equivalent\n",
    "from sympy.abc import i, k, n\n",
    "\n",
    "a = Sum(i**2, (i, 1, n))\n",
    "\n",
    "b = n * (n + 1) * (2 * n + 1)/ 2\n",
    "\n",
    "Equivalent(a.doit().subs([(n,1)]), b.expand().subs([(n,1)]))"
   ]
  },
  {
   "cell_type": "code",
   "execution_count": 15,
   "metadata": {},
   "outputs": [
    {
     "data": {
      "text/latex": [
       "$\\displaystyle \\sum_{i=1}^{2} i^{2}$"
      ],
      "text/plain": [
       "Sum(i**2, (i, 1, 2))"
      ]
     },
     "execution_count": 15,
     "metadata": {},
     "output_type": "execute_result"
    }
   ],
   "source": [
    "from sympy import Equivalent\n",
    "from sympy.abc import k\n",
    "from latex2sympy2 import latex2sympy\n",
    "\n",
    "a = latex2sympy(r'\\frac{2+(-2)^{k+1}}{6}')\n",
    "\n",
    "b = latex2sympy(r'2(\\frac{2+(-2)^{k-1}}{6})-\\frac{2+(-2)^k}{6}')\n",
    "\n",
    "Equivalent(a.expand(), b.expand())"
   ]
  },
  {
   "cell_type": "code",
   "execution_count": 3,
   "metadata": {},
   "outputs": [],
   "source": [
    "x:complex = 4+5j\n",
    "y:int = 4"
   ]
  },
  {
   "cell_type": "code",
   "execution_count": 4,
   "metadata": {},
   "outputs": [
    {
     "data": {
      "text/plain": [
       "(8+5j)"
      ]
     },
     "execution_count": 4,
     "metadata": {},
     "output_type": "execute_result"
    }
   ],
   "source": [
    "x+y"
   ]
  },
  {
   "cell_type": "code",
   "execution_count": null,
   "metadata": {},
   "outputs": [],
   "source": []
  }
 ],
 "metadata": {
  "kernelspec": {
   "display_name": ".env",
   "language": "python",
   "name": "python3"
  },
  "language_info": {
   "codemirror_mode": {
    "name": "ipython",
    "version": 3
   },
   "file_extension": ".py",
   "mimetype": "text/x-python",
   "name": "python",
   "nbconvert_exporter": "python",
   "pygments_lexer": "ipython3",
   "version": "3.10.10"
  },
  "orig_nbformat": 4,
  "vscode": {
   "interpreter": {
    "hash": "5fa63c197ff67d9f331115eed17851184b7819862e78042a5153e94f549b6f37"
   }
  }
 },
 "nbformat": 4,
 "nbformat_minor": 2
}
